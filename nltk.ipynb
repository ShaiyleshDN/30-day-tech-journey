{
 "cells": [
  {
   "cell_type": "code",
   "execution_count": 2,
   "metadata": {},
   "outputs": [
    {
     "name": "stderr",
     "output_type": "stream",
     "text": [
      "[nltk_data] Downloading package punkt to\n",
      "[nltk_data]     C:\\Users\\shaiy\\AppData\\Roaming\\nltk_data...\n",
      "[nltk_data]   Unzipping tokenizers\\punkt.zip.\n"
     ]
    },
    {
     "data": {
      "text/plain": [
       "True"
      ]
     },
     "execution_count": 2,
     "metadata": {},
     "output_type": "execute_result"
    }
   ],
   "source": [
    "from nltk.tokenize import sent_tokenize\n",
    "import nltk\n",
    "nltk.download('punkt')"
   ]
  },
  {
   "cell_type": "code",
   "execution_count": 8,
   "metadata": {},
   "outputs": [],
   "source": [
    "text=\"\"\"'If it's the first ball, I will go after it': Abhishek Sharma\n",
    "Abhishek Sharma was elated with his match-winning century and said he felt it was his day.\n",
    "\n",
    "\"I think it was pretty much good performance by me, the defeat we had yesterday we didn't have it easy for us. I felt today it was my day and I made it count. I feel T20 is about momentum and I took it to the end,\" Abhishek said after receiving Player of the Match.\n",
    "\n",
    "The left-handed batter also asserted that he won't shy away from start hitting from the first ball if it comes in his arc.\n",
    "\n",
    "\"Special mention to the coach and team management, I always feel that as a youngster if it's your day, if you have to express yourself. We were talking after every ball and he said to me that you should take it on. I always believe in my ability, if there's in my arc and even if it's the first ball, I will go after it,\" he added.\"\"\""
   ]
  },
  {
   "cell_type": "code",
   "execution_count": 9,
   "metadata": {},
   "outputs": [
    {
     "name": "stdout",
     "output_type": "stream",
     "text": [
      "Sentence 1:'If it's the first ball, I will go after it': Abhishek Sharma\n",
      "Abhishek Sharma was elated with his match-winning century and said he felt it was his day.\n",
      "Sentence 2:\"I think it was pretty much good performance by me, the defeat we had yesterday we didn't have it easy for us.\n",
      "Sentence 3:I felt today it was my day and I made it count.\n",
      "Sentence 4:I feel T20 is about momentum and I took it to the end,\" Abhishek said after receiving Player of the Match.\n",
      "Sentence 5:The left-handed batter also asserted that he won't shy away from start hitting from the first ball if it comes in his arc.\n",
      "Sentence 6:\"Special mention to the coach and team management, I always feel that as a youngster if it's your day, if you have to express yourself.\n",
      "Sentence 7:We were talking after every ball and he said to me that you should take it on.\n",
      "Sentence 8:I always believe in my ability, if there's in my arc and even if it's the first ball, I will go after it,\" he added.\n"
     ]
    }
   ],
   "source": [
    "sentence=sent_tokenize(text)\n",
    "for i,sentence in enumerate(sentence,1):\n",
    "    print(f\"Sentence {i}:{sentence}\")"
   ]
  },
  {
   "cell_type": "code",
   "execution_count": 10,
   "metadata": {},
   "outputs": [],
   "source": [
    "from nltk.tokenize import word_tokenize"
   ]
  },
  {
   "cell_type": "code",
   "execution_count": 11,
   "metadata": {},
   "outputs": [
    {
     "data": {
      "text/plain": [
       "[\"'If\",\n",
       " 'it',\n",
       " \"'s\",\n",
       " 'the',\n",
       " 'first',\n",
       " 'ball',\n",
       " ',',\n",
       " 'I',\n",
       " 'will',\n",
       " 'go',\n",
       " 'after',\n",
       " 'it',\n",
       " \"'\",\n",
       " ':',\n",
       " 'Abhishek',\n",
       " 'Sharma',\n",
       " 'Abhishek',\n",
       " 'Sharma',\n",
       " 'was',\n",
       " 'elated',\n",
       " 'with',\n",
       " 'his',\n",
       " 'match-winning',\n",
       " 'century',\n",
       " 'and',\n",
       " 'said',\n",
       " 'he',\n",
       " 'felt',\n",
       " 'it',\n",
       " 'was',\n",
       " 'his',\n",
       " 'day',\n",
       " '.',\n",
       " '``',\n",
       " 'I',\n",
       " 'think',\n",
       " 'it',\n",
       " 'was',\n",
       " 'pretty',\n",
       " 'much',\n",
       " 'good',\n",
       " 'performance',\n",
       " 'by',\n",
       " 'me',\n",
       " ',',\n",
       " 'the',\n",
       " 'defeat',\n",
       " 'we',\n",
       " 'had',\n",
       " 'yesterday',\n",
       " 'we',\n",
       " 'did',\n",
       " \"n't\",\n",
       " 'have',\n",
       " 'it',\n",
       " 'easy',\n",
       " 'for',\n",
       " 'us',\n",
       " '.',\n",
       " 'I',\n",
       " 'felt',\n",
       " 'today',\n",
       " 'it',\n",
       " 'was',\n",
       " 'my',\n",
       " 'day',\n",
       " 'and',\n",
       " 'I',\n",
       " 'made',\n",
       " 'it',\n",
       " 'count',\n",
       " '.',\n",
       " 'I',\n",
       " 'feel',\n",
       " 'T20',\n",
       " 'is',\n",
       " 'about',\n",
       " 'momentum',\n",
       " 'and',\n",
       " 'I',\n",
       " 'took',\n",
       " 'it',\n",
       " 'to',\n",
       " 'the',\n",
       " 'end',\n",
       " ',',\n",
       " \"''\",\n",
       " 'Abhishek',\n",
       " 'said',\n",
       " 'after',\n",
       " 'receiving',\n",
       " 'Player',\n",
       " 'of',\n",
       " 'the',\n",
       " 'Match',\n",
       " '.',\n",
       " 'The',\n",
       " 'left-handed',\n",
       " 'batter',\n",
       " 'also',\n",
       " 'asserted',\n",
       " 'that',\n",
       " 'he',\n",
       " 'wo',\n",
       " \"n't\",\n",
       " 'shy',\n",
       " 'away',\n",
       " 'from',\n",
       " 'start',\n",
       " 'hitting',\n",
       " 'from',\n",
       " 'the',\n",
       " 'first',\n",
       " 'ball',\n",
       " 'if',\n",
       " 'it',\n",
       " 'comes',\n",
       " 'in',\n",
       " 'his',\n",
       " 'arc',\n",
       " '.',\n",
       " '``',\n",
       " 'Special',\n",
       " 'mention',\n",
       " 'to',\n",
       " 'the',\n",
       " 'coach',\n",
       " 'and',\n",
       " 'team',\n",
       " 'management',\n",
       " ',',\n",
       " 'I',\n",
       " 'always',\n",
       " 'feel',\n",
       " 'that',\n",
       " 'as',\n",
       " 'a',\n",
       " 'youngster',\n",
       " 'if',\n",
       " 'it',\n",
       " \"'s\",\n",
       " 'your',\n",
       " 'day',\n",
       " ',',\n",
       " 'if',\n",
       " 'you',\n",
       " 'have',\n",
       " 'to',\n",
       " 'express',\n",
       " 'yourself',\n",
       " '.',\n",
       " 'We',\n",
       " 'were',\n",
       " 'talking',\n",
       " 'after',\n",
       " 'every',\n",
       " 'ball',\n",
       " 'and',\n",
       " 'he',\n",
       " 'said',\n",
       " 'to',\n",
       " 'me',\n",
       " 'that',\n",
       " 'you',\n",
       " 'should',\n",
       " 'take',\n",
       " 'it',\n",
       " 'on',\n",
       " '.',\n",
       " 'I',\n",
       " 'always',\n",
       " 'believe',\n",
       " 'in',\n",
       " 'my',\n",
       " 'ability',\n",
       " ',',\n",
       " 'if',\n",
       " 'there',\n",
       " \"'s\",\n",
       " 'in',\n",
       " 'my',\n",
       " 'arc',\n",
       " 'and',\n",
       " 'even',\n",
       " 'if',\n",
       " 'it',\n",
       " \"'s\",\n",
       " 'the',\n",
       " 'first',\n",
       " 'ball',\n",
       " ',',\n",
       " 'I',\n",
       " 'will',\n",
       " 'go',\n",
       " 'after',\n",
       " 'it',\n",
       " ',',\n",
       " \"''\",\n",
       " 'he',\n",
       " 'added',\n",
       " '.']"
      ]
     },
     "execution_count": 11,
     "metadata": {},
     "output_type": "execute_result"
    }
   ],
   "source": [
    "words=word_tokenize(text)\n",
    "words"
   ]
  },
  {
   "cell_type": "code",
   "execution_count": 12,
   "metadata": {},
   "outputs": [
    {
     "name": "stderr",
     "output_type": "stream",
     "text": [
      "[nltk_data] Downloading package stopwords to\n",
      "[nltk_data]     C:\\Users\\shaiy\\AppData\\Roaming\\nltk_data...\n",
      "[nltk_data]   Unzipping corpora\\stopwords.zip.\n"
     ]
    },
    {
     "data": {
      "text/plain": [
       "True"
      ]
     },
     "execution_count": 12,
     "metadata": {},
     "output_type": "execute_result"
    }
   ],
   "source": [
    "nltk.download('stopwords')"
   ]
  },
  {
   "cell_type": "code",
   "execution_count": 15,
   "metadata": {},
   "outputs": [
    {
     "name": "stdout",
     "output_type": "stream",
     "text": [
      "OG text= 'If it's the first ball, I will go after it': Abhishek Sharma\n",
      "Abhishek Sharma was elated with his match-winning century and said he felt it was his day.\n",
      "\n",
      "\"I think it was pretty much good performance by me, the defeat we had yesterday we didn't have it easy for us. I felt today it was my day and I made it count. I feel T20 is about momentum and I took it to the end,\" Abhishek said after receiving Player of the Match.\n",
      "\n",
      "The left-handed batter also asserted that he won't shy away from start hitting from the first ball if it comes in his arc.\n",
      "\n",
      "\"Special mention to the coach and team management, I always feel that as a youngster if it's your day, if you have to express yourself. We were talking after every ball and he said to me that you should take it on. I always believe in my ability, if there's in my arc and even if it's the first ball, I will go after it,\" he added.\n",
      "Filtered text [\"'If\", \"'s\", 'first', 'ball', ',', 'go', \"'\", ':', 'Abhishek', 'Sharma', 'Abhishek', 'Sharma', 'elated', 'match-winning', 'century', 'said', 'felt', 'day', '.', '``', 'think', 'pretty', 'much', 'good', 'performance', ',', 'defeat', 'yesterday', \"n't\", 'easy', 'us', '.', 'felt', 'today', 'day', 'made', 'count', '.', 'feel', 'T20', 'momentum', 'took', 'end', ',', \"''\", 'Abhishek', 'said', 'receiving', 'Player', 'Match', '.', 'left-handed', 'batter', 'also', 'asserted', 'wo', \"n't\", 'shy', 'away', 'start', 'hitting', 'first', 'ball', 'comes', 'arc', '.', '``', 'Special', 'mention', 'coach', 'team', 'management', ',', 'always', 'feel', 'youngster', \"'s\", 'day', ',', 'express', '.', 'talking', 'every', 'ball', 'said', 'take', '.', 'always', 'believe', 'ability', ',', \"'s\", 'arc', 'even', \"'s\", 'first', 'ball', ',', 'go', ',', \"''\", 'added', '.']\n"
     ]
    }
   ],
   "source": [
    "from nltk.corpus import stopwords\n",
    "from nltk.tokenize import word_tokenize\n",
    "word=word_tokenize(text)\n",
    "stop_words=set(stopwords.words('english'))\n",
    "filtered_words=[word for word in words if word.lower() not in stop_words]\n",
    "print(\"OG text=\",text)\n",
    "print(\"Filtered text\",filtered_words)"
   ]
  },
  {
   "cell_type": "code",
   "execution_count": 11,
   "metadata": {},
   "outputs": [
    {
     "name": "stdout",
     "output_type": "stream",
     "text": [
      "Original words: ['running', 'runs', 'run', 'helping', 'telling', 'buying']\n",
      "Stemmed words: ['run', 'run', 'run', 'help', 'tell', 'buy']\n"
     ]
    }
   ],
   "source": [
    "from nltk.stem import PorterStemmer\n",
    "from nltk.tokenize import word_tokenize\n",
    "\n",
    "# Example text\n",
    "text = \"running runs run helping telling buying\"\n",
    "\n",
    "# Tokenize the text\n",
    "words = word_tokenize(text)\n",
    "\n",
    "# Initialize the PorterStemmer\n",
    "porter = PorterStemmer()\n",
    "\n",
    "# Stem each word\n",
    "stemmed_words = [porter.stem(word) for word in words]\n",
    "\n",
    "# Print the results\n",
    "print(\"Original words:\", words)\n",
    "print(\"Stemmed words:\", stemmed_words)\n"
   ]
  },
  {
   "cell_type": "code",
   "execution_count": 10,
   "metadata": {},
   "outputs": [
    {
     "name": "stdout",
     "output_type": "stream",
     "text": [
      "['running', 'run', 'run', 'helping', 'telling', 'buying']\n"
     ]
    },
    {
     "name": "stderr",
     "output_type": "stream",
     "text": [
      "[nltk_data] Downloading package wordnet to\n",
      "[nltk_data]     C:\\Users\\shaiy\\AppData\\Roaming\\nltk_data...\n",
      "[nltk_data]   Package wordnet is already up-to-date!\n",
      "[nltk_data] Downloading package omw-1.4 to\n",
      "[nltk_data]     C:\\Users\\shaiy\\AppData\\Roaming\\nltk_data...\n",
      "[nltk_data]   Package omw-1.4 is already up-to-date!\n"
     ]
    }
   ],
   "source": [
    "import nltk\n",
    "from nltk.stem import WordNetLemmatizer\n",
    "from nltk.tokenize import word_tokenize\n",
    "\n",
    "# Download necessary resources\n",
    "nltk.download('wordnet')\n",
    "nltk.download('omw-1.4')\n",
    "\n",
    "# Example text\n",
    "text = \"running runs run helping telling buying\"\n",
    "\n",
    "# Tokenize the text\n",
    "words = word_tokenize(text)\n",
    "\n",
    "# Initialize the lemmatizer\n",
    "lemmatizer = WordNetLemmatizer()\n",
    "\n",
    "# Lemmatize each word\n",
    "lemmatized_words = [lemmatizer.lemmatize(word) for word in words]\n",
    "\n",
    "# Print the result\n",
    "print(lemmatized_words)\n"
   ]
  }
 ],
 "metadata": {
  "kernelspec": {
   "display_name": "Python 3",
   "language": "python",
   "name": "python3"
  },
  "language_info": {
   "codemirror_mode": {
    "name": "ipython",
    "version": 3
   },
   "file_extension": ".py",
   "mimetype": "text/x-python",
   "name": "python",
   "nbconvert_exporter": "python",
   "pygments_lexer": "ipython3",
   "version": "3.12.0"
  }
 },
 "nbformat": 4,
 "nbformat_minor": 2
}
